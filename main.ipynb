{
 "cells": [
  {
   "cell_type": "markdown",
   "id": "fcdcb3d0-62af-41df-9fad-fcb84f5af016",
   "metadata": {},
   "source": [
    "# Drone Trajectory Planner\n",
    "\n",
    "In this project, we will develop the drone trajectory planner. This notebook serves as the main file for the project, where we will refer to the instructions and demonstrate our code.\n",
    "\n",
    "Please follow week by week instructions, which includes writing the code in the `src/` folder."
   ]
  },
  {
   "cell_type": "code",
   "execution_count": 2,
   "id": "83a63ad4-c249-484a-99e2-d9724aa5d41e",
   "metadata": {},
   "outputs": [
    {
     "name": "stdout",
     "output_type": "stream",
     "text": [
      "The autoreload extension is already loaded. To reload it, use:\n",
      "  %reload_ext autoreload\n"
     ]
    }
   ],
   "source": [
    "# Import all the files and libraries required for the project\n",
    "%load_ext autoreload\n",
    "%autoreload 2\n",
    "import copy\n",
    "    \n",
    "import numpy as np\n",
    "\n",
    "from src.camera_utils import compute_image_footprint_on_surface, compute_ground_sampling_distance, project_world_point_to_image, reproject_image_point_to_world\n",
    "from src.data_model import Camera, DatasetSpec\n",
    "from src.plan_computation import compute_distance_between_images, compute_speed_during_photo_capture, generate_photo_plan_on_grid\n",
    "from src.visualization import plot_photo_plan"
   ]
  },
  {
   "cell_type": "markdown",
   "id": "44eb7f16-9094-4bc8-8ce7-065991ea0b78",
   "metadata": {},
   "source": [
    "# Week 1: Introduction\n",
    "\n",
    "No code contribution expected this week"
   ]
  },
  {
   "cell_type": "markdown",
   "id": "0c08643e-1e37-4614-bc8f-b5636127b345",
   "metadata": {},
   "source": [
    "# Week 2: Camera System Modeling and Operations\n",
    "\n",
    "We plan to\n",
    "- Model the simple pinhole camera system\n",
    "- Write utility functions to\n",
    "    - project a 3D world point to an image\n",
    "    - Compute image footprint on a surface\n",
    "    - Compute the Ground Sampling Distance"
   ]
  },
  {
   "cell_type": "markdown",
   "id": "c65c8b8f-6f33-4cd4-8c3a-74acbdbd2c7d",
   "metadata": {},
   "source": [
    "## Model the camera parameters\n",
    "\n",
    "We want to model the following camera parameters in Python:\n",
    "- focal length along x axis (in pixels)\n",
    "- focal length along y axis (in pixels)\n",
    "- optical center of the image along the x axis (in pixels)\n",
    "- optical center of the image along the y axis (in pixels)\n",
    "- Size of the sensor along the x axis (in mm)\n",
    "- Size of the sensor along the y axis (in mm)\n",
    "- Number of pixels in the image along the x axis\n",
    "- Number of pixels in the image along the y axis\n",
    "\n",
    "I recommend to use `dataclasses` ([Python documentation](https://docs.python.org/3/library/dataclasses.html), [Blog](https://www.dataquest.io/blog/how-to-use-python-data-classes/) to model these parameters.\n",
    "\n",
    "$\\color{red}{\\text{TODO: }}$ Implement `Camera` in `src/data_model.py`"
   ]
  },
  {
   "cell_type": "code",
   "execution_count": 3,
   "id": "51f75a3f-b1b1-4087-b9ea-6d5b245ab0fc",
   "metadata": {},
   "outputs": [],
   "source": [
    "# Define the parameters for Skydio VT300L - Wide camera\n",
    "# Ref: https://support.skydio.com/hc/en-us/articles/20866347470491-Skydio-X10-camera-and-metadata-overview\n",
    "fx = 4938.56\n",
    "fy = 4936.49\n",
    "cx = 4095.5\n",
    "cy = 3071.5\n",
    "sensor_size_x_mm = 13.107 # single pixel size * number of pixels in X dimension\n",
    "sensor_size_y_mm = 9.830 # single pixel size * number of pixels in Y dimension\n",
    "image_size_x = 8192\n",
    "image_size_y = 6144\n",
    "\n",
    "camera_x10 = Camera(fx, fy, cx, cy, sensor_size_x_mm, sensor_size_y_mm, image_size_x, image_size_y)"
   ]
  },
  {
   "cell_type": "code",
   "execution_count": 3,
   "id": "d0c3834b-6ae4-49b2-8a4f-9a50a08c2cb7",
   "metadata": {},
   "outputs": [
    {
     "name": "stdout",
     "output_type": "stream",
     "text": [
      "X10 camera model: Camera(fx=4938.56, fy=4936.49, cx=4095.5, cy=3071.5, sensor_size_x_mm=13.107, sensor_size_y_mm=9.83, image_size_x_px=8192, image_size_y_px=6144)\n"
     ]
    }
   ],
   "source": [
    "print(f\"X10 camera model: {camera_x10}\")"
   ]
  },
  {
   "cell_type": "markdown",
   "id": "1f1db4d3-824e-49b9-af3a-dbeb3323625a",
   "metadata": {},
   "source": [
    "## Project 3D world points into the image\n",
    "\n",
    "\n",
    "![Camera Projection](assets/image_projection.png)\n",
    "Reference: [Robert Collins CSE483](https://www.cse.psu.edu/~rtc12/CSE486/lecture12.pdf)\n",
    "\n",
    "\n",
    "Equations to implement:\n",
    "$$ x = f_x \\frac{X}{Z} $$\n",
    "$$ y = f_y \\frac{Y}{Z} $$\n",
    "$$ u = x + c_x $$\n",
    "$$ v = y + c_y $$\n",
    "\n",
    "$\\color{red}{\\text{TODO: }}$ Implement function `project_world_point_to_image` in `src/camera_utils.py`"
   ]
  },
  {
   "cell_type": "code",
   "execution_count": 4,
   "id": "4a3bd4c0-188b-4f95-98c9-95bb351e2d59",
   "metadata": {},
   "outputs": [
    {
     "name": "stdout",
     "output_type": "stream",
     "text": [
      "[ 25. -30.  50.] projected to [6564.7803   109.60571]\n"
     ]
    }
   ],
   "source": [
    "point_3d = np.array([25, -30, 50], dtype=np.float32)\n",
    "expected_uv = np.array([6564.80, 109.60], dtype=np.float32)\n",
    "uv = project_world_point_to_image(camera_x10, point_3d)\n",
    "\n",
    "print(f\"{point_3d} projected to {uv}\")\n",
    "\n",
    "assert np.allclose(uv, expected_uv, atol=1e-2)"
   ]
  },
  {
   "cell_type": "markdown",
   "id": "cf58acce-ca40-492d-9281-791c05c92776",
   "metadata": {},
   "source": [
    "## Compute Image Footprint on the surface\n",
    "\n",
    "We have written code to *project* a 3D point into the image. The reverse operation is reprojection, where we take $(x, y)$ and compute the $(X, Y)$ for a given value of $Z$. Note that while going from 3D to 2D, the depth becomes ambiguous so we need the to specify the $Z$.\n",
    "\n",
    "An image's footprint is the area on the surface which is captured by the image. We can take the two corners of the image and reproject them at a given distance to obtain the width and length of the image.\n",
    "\n",
    "$\\color{red}{\\text{TODO: }}$ Implement function `compute_image_footprint_on_surface` in `src/camera_utils.py`"
   ]
  },
  {
   "cell_type": "code",
   "execution_count": 5,
   "id": "9d3e87ae-2123-4362-bf6e-279e6afb360c",
   "metadata": {},
   "outputs": [
    {
     "name": "stdout",
     "output_type": "stream",
     "text": [
      "Footprint at 100m = [165.87831 124.4609 ]\n"
     ]
    }
   ],
   "source": [
    "footprint_at_100m = compute_image_footprint_on_surface(camera_x10, 100)\n",
    "expected_footprint_at_100m = np.array([165.88, 124.46], dtype=np.float32)\n",
    "\n",
    "print(f\"Footprint at 100m = {footprint_at_100m}\")\n",
    "\n",
    "assert np.allclose(footprint_at_100m, expected_footprint_at_100m, atol=1e-2)\n"
   ]
  },
  {
   "cell_type": "code",
   "execution_count": 6,
   "id": "bf7af93f-e95b-40e2-b607-39020015381b",
   "metadata": {},
   "outputs": [
    {
     "name": "stdout",
     "output_type": "stream",
     "text": [
      "Footprint at 200m = [331.75662 248.9218 ]\n"
     ]
    }
   ],
   "source": [
    "footprint_at_200m = compute_image_footprint_on_surface(camera_x10, 200)\n",
    "expected_footprint_at_200m = expected_footprint_at_100m * 2\n",
    "\n",
    "print(f\"Footprint at 200m = {footprint_at_200m}\")\n",
    "\n",
    "assert np.allclose(footprint_at_200m, expected_footprint_at_200m, atol=1e-2)"
   ]
  },
  {
   "cell_type": "markdown",
   "id": "84486ad6-a4c5-4e5a-ba40-ad125ced7d3d",
   "metadata": {},
   "source": [
    "## Ground Sampling Distance\n",
    "\n",
    "Ground sampling distance is the length of the ground (in m) captured by a single pixel. We have the image footpring (the dimensions of ground captured by the whole sensor, and the number of pixels along the horizontal and vertical dimension. Can we get GSD from these two quantities?"
   ]
  },
  {
   "cell_type": "code",
   "execution_count": 7,
   "id": "f21aa3d1-08be-4bce-8554-ec834ad000bf",
   "metadata": {},
   "outputs": [
    {
     "name": "stdout",
     "output_type": "stream",
     "text": [
      "GSD at 100m: 0.020248817279934883\n"
     ]
    }
   ],
   "source": [
    "gsd_at_100m = compute_ground_sampling_distance(camera_x10, 100)\n",
    "expected_gsd_at_100m = 0.0202\n",
    "\n",
    "print(f\"GSD at 100m: {gsd_at_100m}\")\n",
    "\n",
    "assert np.allclose(gsd_at_100m, expected_gsd_at_100m, atol=1e-4)"
   ]
  },
  {
   "cell_type": "markdown",
   "id": "47477599-e78b-46d4-9cac-725bcbb5e6eb",
   "metadata": {},
   "source": [
    "## Bonus: Reprojection from 2D to 3D\n",
    "\n",
    "If we have a 2d pixel location of a point along with the camera model, can we go back to 3D?\n",
    "Do we need any additional information.\n",
    "\n",
    "\n",
    "$\\color{red}{\\text{TODO: }}$ Implement function `reproject_image_point_to_world` in `src/camera_utils.py` and demonstrate it by running it in the notebook. Confirm that your reprojection + projection function are consistent."
   ]
  },
  {
   "cell_type": "code",
   "execution_count": 8,
   "id": "b9345d9f",
   "metadata": {},
   "outputs": [
    {
     "name": "stdout",
     "output_type": "stream",
     "text": [
      "[ 25. -30.  50.] projected to [6564.7803   109.60571]\n",
      "reprojected from image point [6564.7803   109.60571] back to real 3D point [ 25 -30  50] by giving Z dimention\n"
     ]
    }
   ],
   "source": [
    "point_3d = np.array([25, -30, 50], dtype=np.float32)\n",
    "uv = project_world_point_to_image(camera_x10, point_3d)\n",
    "print(f\"{point_3d} projected to {uv}\")\n",
    "\n",
    "reproject_3d = reproject_image_point_to_world(camera_x10, uv, 50)\n",
    "print(f\"reprojected from image point {uv} back to real 3D point {reproject_3d} by giving Z dimention\")\n",
    "\n",
    "assert np.allclose(point_3d, reproject_3d)"
   ]
  },
  {
   "cell_type": "markdown",
   "id": "59349449-f7ed-4e2f-aa80-17a2fabf51f1",
   "metadata": {},
   "source": [
    "# Week 3: Model the user requirements\n",
    "\n",
    "For this week, we will model the dataset specifications.\n",
    "\n",
    "- Overlap: the ratio (in 0 to 1) of scene shared between two consecutive images.\n",
    "- Sidelap: the ratio (in 0 to 1) of scene shared between two images in adjacent rows.\n",
    "- Height: the height of the scan above the ground (in meters).\n",
    "- Scan_dimension_x: the horizontal size of the rectangle to be scanned\n",
    "- Scan_dimension_y: the vertical size of the rectangle to be scanned\n",
    "- exposure_time_ms: the exposure time for each image (in milliseconds).\n",
    "\n",
    "\n",
    "$\\color{red}{\\text{TODO: }}$ Implement `DatasetSpec` in `src/data_model.py`\n"
   ]
  },
  {
   "cell_type": "code",
   "execution_count": 4,
   "id": "38206e65-458d-4d0d-b3fc-7e45039c0b64",
   "metadata": {},
   "outputs": [
    {
     "name": "stdout",
     "output_type": "stream",
     "text": [
      "Nominal specs: DatasetSpec(overlap=0.7, sidelap=0.7, height=30.48, scan_dimension_x=150, scan_dimension_y=150, exposure_time_ms=2)\n"
     ]
    }
   ],
   "source": [
    "# Model the nomimal dataset spec\n",
    "\n",
    "overlap = 0.7\n",
    "sidelap = 0.7\n",
    "height = 30.48 # 100 ft\n",
    "scan_dimension_x = 150\n",
    "scan_dimension_y = 150\n",
    "exposure_time_ms = 2 # 1/500 exposure time\n",
    "\n",
    "dataset_spec = DatasetSpec(overlap, sidelap, height, scan_dimension_x, scan_dimension_y, exposure_time_ms)\n",
    "\n",
    "print(f\"Nominal specs: {dataset_spec}\")"
   ]
  },
  {
   "cell_type": "markdown",
   "id": "135a5201-bcbc-4e57-9201-31d3dbb50005",
   "metadata": {},
   "source": [
    "#  Week 4: Compute Distance Between Photos\n",
    "\n",
    "The overlap and sidelap are the ratio of the dimensions shared between two photos. We already know the footprint of a single image at a given distance. Can we convert the ratio into actual distances? And how does the distance on the surface relate to distance travelled by the camera?\n",
    "\n",
    "$\\color{red}{\\text{TODO: }}$ Implement `compute_distance_between_images` in `src/plan_computation.py`\n",
    "\n"
   ]
  },
  {
   "cell_type": "code",
   "execution_count": 10,
   "id": "70b32a91-2577-46ec-bb07-9a0a5fd01243",
   "metadata": {},
   "outputs": [
    {
     "name": "stdout",
     "output_type": "stream",
     "text": [
      "Computed distance for X10 camera with nominal dataset specs: [15.167914 11.380706]\n"
     ]
    }
   ],
   "source": [
    "computed_distances = compute_distance_between_images(camera_x10, dataset_spec)\n",
    "expected_distances = np.array([15.17, 11.38], dtype=np.float32)\n",
    "\n",
    "print(f\"Computed distance for X10 camera with nominal dataset specs: {computed_distances}\")\n",
    "\n",
    "assert np.allclose(computed_distances, expected_distances, atol=1e-2)"
   ]
  },
  {
   "cell_type": "markdown",
   "id": "5474e7ac-28bb-4ab3-ad8d-cb5398d5696b",
   "metadata": {},
   "source": [
    "$\\color{red}{\\text{TODO: }}$ define more specifications/camera parameters and check the computed distances. Does that align with your expections\n"
   ]
  },
  {
   "cell_type": "code",
   "execution_count": 53,
   "id": "f7f9334a-6ee1-4aa4-8770-d0f48b36f18b",
   "metadata": {},
   "outputs": [
    {
     "name": "stdout",
     "output_type": "stream",
     "text": [
      "Computed distance: [15.167914 11.380706]\n",
      "Height Doubled: [30.335829 22.761412]\n",
      "Reduced Overlap: [32.86381  11.380706]\n",
      "Increased Sidelap: [15.167914   3.7935684]\n",
      "Increased Focal Length: [ 7.583957 11.380706]\n",
      "Decreased Focal Length: [15.167914 22.76367 ]\n"
     ]
    }
   ],
   "source": [
    "camera_ = copy.copy(camera_x10)\n",
    "dataset_spec_ = copy.copy(dataset_spec)\n",
    "\n",
    "# Default\n",
    "computed_distances_ = compute_distance_between_images(camera_, dataset_spec_)\n",
    "print(f\"Computed distance: {computed_distances_}\")\n",
    "\n",
    "\n",
    "\n",
    "# Height Doubling\n",
    "dataset_spec_.height = dataset_spec_.height * 2\n",
    "computed_distances_ = compute_distance_between_images(camera_, dataset_spec_)\n",
    "print(f\"Height Doubled: {computed_distances_}\")\n",
    "# Doubling the height increases the camera's footprint on the ground, \n",
    "# so the distance between images also increases to maintain the same overlap and sidelap.\n",
    "\n",
    "\n",
    "\n",
    "# Reduced Overlap\n",
    "dataset_spec_ = copy.copy(dataset_spec)\n",
    "dataset_spec_.overlap = dataset_spec_.overlap / 2\n",
    "computed_distances_ = compute_distance_between_images(camera_, dataset_spec_)\n",
    "print(f\"Reduced Overlap: {computed_distances_}\")\n",
    "# With less overlap, each image captures more unique ground area, so the distance between images increases.\n",
    "\n",
    "\n",
    "\n",
    "# Increased Sidelap\n",
    "dataset_spec_ = copy.copy(dataset_spec)\n",
    "dataset_spec_.sidelap = 0.9\n",
    "computed_distances_ = compute_distance_between_images(camera_, dataset_spec_)\n",
    "print(f\"Increased Sidelap: {computed_distances_}\")\n",
    "# With more sidelap, images must be closer together horizontally to achieve the higher side-to-side overlap\n",
    "\n",
    "\n",
    "\n",
    "# Increase focal length\n",
    "camera_ = copy.copy(camera_x10)\n",
    "dataset_spec_ = copy.copy(dataset_spec)\n",
    "camera_.fx *= 2\n",
    "computed_distances_ = compute_distance_between_images(camera_, dataset_spec_)\n",
    "print(f\"Increased Focal Length: {computed_distances_}\")\n",
    "# A longer focal length narrows the camera's field of view, reducing the ground footprint, so the distance between images decreases.\n",
    "\n",
    "\n",
    "\n",
    "\n",
    "# Decrease focal length\n",
    "camera_ = copy.copy(camera_x10)\n",
    "dataset_spec_ = copy.copy(dataset_spec)\n",
    "camera_.fy //= 2\n",
    "computed_distances_ = compute_distance_between_images(camera_, dataset_spec_)\n",
    "print(f\"Decreased Focal Length: {computed_distances_}\")"
   ]
  },
  {
   "cell_type": "markdown",
   "id": "cea6d39a-89af-42bc-bb63-2d22380dec1f",
   "metadata": {},
   "source": [
    "## Bonus: Non-Nadir photos\n",
    "\n",
    "We have solved for the distance assuming that the camera is facing straight down to the ground. This is called [Nadir scanning](https://support.esri.com/en-us/gis-dictionary/nadir). However, in practise we might want a custom gimbal angle.\n",
    "\n",
    "Your bonus task is to make the distance computation general. Introduce the `camera_angle` parameter in the dataset specification, and work out how to adapt your computation. Feel free to reach out to Ayush to discuss ideas and assumptions!"
   ]
  },
  {
   "cell_type": "code",
   "execution_count": 65,
   "id": "d12b7d94",
   "metadata": {},
   "outputs": [
    {
     "name": "stdout",
     "output_type": "stream",
     "text": [
      "Computed distance for X10 camera with 0 degree angle:\n",
      "method1: [15.167914 11.380706]\n",
      "method2: [15.1679125 11.380705 ]\n",
      "percent errors: 0.00001%, 0.00001%\n",
      "-------------------------------------\n",
      "Computed distance for X10 camera with 20 degree angle:\n",
      "method1: [16.141357 12.111094]\n",
      "method2: [18.899546 13.585316]\n",
      "percent errors: 15.743%, 11.474%\n",
      "-------------------------------------\n",
      "Computed distance for X10 camera with 30 degree angle:\n",
      "method1: [17.514399 13.141306]\n",
      "method2: [26.24082  17.423422]\n",
      "percent errors: 39.887%, 28.020%\n",
      "-------------------------------------\n",
      "Computed distance for X10 camera with 45 degree angle:\n",
      "method1: [21.450668 16.094748]\n",
      "method2: [97.19606  37.147106]\n",
      "percent errors: 127.682%, 79.082%\n"
     ]
    },
    {
     "data": {
      "text/plain": [
       "'\\nIn summary\\nMethod 1 is suitable for small angles\\nwhile Method 2 provides more accurate results at larger angles due to its detailed handling of perspective distortion.\\n'"
      ]
     },
     "execution_count": 65,
     "metadata": {},
     "output_type": "execute_result"
    }
   ],
   "source": [
    "from src.plan_computation import compute_distance_between_images_method2\n",
    "def percent_error(a, b):\n",
    "    x_error = np.abs(a[0] - b[0]) / ((a[0] + b[0]) / 2) * 100\n",
    "    y_error = np.abs(a[1]-b[1]) / ((a[1] + b[1]) / 2) * 100\n",
    "    return x_error, y_error\n",
    "\n",
    "\"\"\"\n",
    "Method1, we account for the tilt by adjusting the effective altitude with height /= np.cos(camera_angle), \n",
    "which compensates for the angled view. \n",
    "This approach assumes that the camera's footprint on the ground is still a simple projection that scales with altitude.\n",
    "\n",
    "Method2, we calculate separate top, bottom, left, and right edges based on field of view and trigonometric calculations. \n",
    "This approach models the distortion from the angle more accurately by explicitly calculating the distances for each edge. As the angle increases, \n",
    "the distortion grows, so this approach may yield significantly larger values at high angles.\n",
    "\"\"\"\n",
    "# with 0 degree angle\n",
    "method1 = compute_distance_between_images(camera_x10, dataset_spec, camera_angle=0)\n",
    "method2 = compute_distance_between_images_method2(camera_x10, dataset_spec, camera_angle=0)\n",
    "print(f\"Computed distance for X10 camera with 0 degree angle:\")\n",
    "print(f\"method1: {method1}\")\n",
    "print(f\"method2: {method2}\")\n",
    "diff_x, diff_y = percent_error(method1, method2)\n",
    "print(f\"percent errors: {diff_x:.5f}%, {diff_y:.5f}%\")\n",
    "print('-------------------------------------')\n",
    "\n",
    "# with 20 degree angle\n",
    "method1 = compute_distance_between_images(camera_x10, dataset_spec, camera_angle=20)\n",
    "method2 = compute_distance_between_images_method2(camera_x10, dataset_spec, camera_angle=20)\n",
    "print(f\"Computed distance for X10 camera with 20 degree angle:\")\n",
    "print(f\"method1: {method1}\")\n",
    "print(f\"method2: {method2}\")\n",
    "diff_x, diff_y = percent_error(method1, method2)\n",
    "print(f\"percent errors: {diff_x:.3f}%, {diff_y:.3f}%\")\n",
    "print('-------------------------------------')\n",
    "\n",
    "# with 30 degree angle\n",
    "method1 = compute_distance_between_images(camera_x10, dataset_spec, camera_angle=30)\n",
    "method2 = compute_distance_between_images_method2(camera_x10, dataset_spec, camera_angle=30)\n",
    "print(f\"Computed distance for X10 camera with 30 degree angle:\")\n",
    "print(f\"method1: {method1}\")\n",
    "print(f\"method2: {method2}\")\n",
    "diff_x, diff_y = percent_error(method1, method2)\n",
    "print(f\"percent errors: {diff_x:.3f}%, {diff_y:.3f}%\")\n",
    "print('-------------------------------------')\n",
    "\n",
    "\n",
    "# with 45 degree angle\n",
    "method1 = compute_distance_between_images(camera_x10, dataset_spec, camera_angle=45)\n",
    "method2 = compute_distance_between_images_method2(camera_x10, dataset_spec, camera_angle=45)\n",
    "print(f\"Computed distance for X10 camera with 45 degree angle:\")\n",
    "print(f\"method1: {method1}\")\n",
    "print(f\"method2: {method2}\")\n",
    "diff_x, diff_y = percent_error(method1, method2)\n",
    "print(f\"percent errors: {diff_x:.3f}%, {diff_y:.3f}%\")\n",
    "\n",
    "\n",
    "\"\"\"\n",
    "In summary\n",
    "Method 1 is suitable for small angles\n",
    "while Method 2 provides more accurate results at larger angles due to its detailed handling of perspective distortion.\n",
    "\"\"\"\n"
   ]
  },
  {
   "cell_type": "markdown",
   "id": "8dfc13a5-d13d-4930-a47b-2851e5458ceb",
   "metadata": {},
   "source": [
    "# Week 5: Compute Maximum Speed For Blur Free Photos\n",
    "\n",
    "To restrict motion blur due to camera movement to tolerable limits, we need to restrict the speed such that the image contents move less than 1px away. \n",
    "\n",
    "How much does 1px of movement translate to movement of the scene on the ground? It is the ground sampling distance!\n",
    "From previous week, we know that this is the maximum movement the camera can have. \n",
    "We have the distance now. To get speed we need to divide it with time. Do we have time already in our data models?\n",
    "\n",
    "$\\color{red}{\\text{TODO: }}$ Implement `compute_speed_during_photo_capture` in `src/plan_computation.py`."
   ]
  },
  {
   "cell_type": "code",
   "execution_count": 7,
   "id": "1292957c-d66f-4ac9-bb6f-1dc783d1a5aa",
   "metadata": {},
   "outputs": [
    {
     "name": "stdout",
     "output_type": "stream",
     "text": [
      "Computed speed during photo captures: 3.09\n"
     ]
    }
   ],
   "source": [
    "computed_speed = compute_speed_during_photo_capture(camera_x10, dataset_spec, allowed_movement_px=1)\n",
    "expected_speed = 3.09\n",
    "\n",
    "print(f\"Computed speed during photo captures: {computed_speed:.2f}\")\n",
    "\n",
    "assert np.allclose(computed_speed, expected_speed, atol=1e-2)"
   ]
  },
  {
   "cell_type": "markdown",
   "id": "b7fe63d9-c416-4bbf-b0ce-8c678de681de",
   "metadata": {},
   "source": [
    "$\\color{red}{\\text{TODO: }}$ define more specifications/camera parameters and check the computed distances. Does that align with your expections\n"
   ]
  },
  {
   "cell_type": "code",
   "execution_count": 8,
   "id": "85212946-83d0-475c-9740-e04d10a1ec32",
   "metadata": {},
   "outputs": [
    {
     "name": "stdout",
     "output_type": "stream",
     "text": [
      "Max speed: 3.09\n",
      "------------------------------\n",
      "Double the height\n",
      "Max speed: 6.17\n",
      "------------------------------\n",
      "Longer Exposure Time\n",
      "Max speed: 1.54\n",
      "------------------------------\n",
      "Longer Focal Length\n",
      "Max speed: 1.54\n",
      "------------------------------\n"
     ]
    }
   ],
   "source": [
    "camera_ = copy.copy(camera_x10)\n",
    "dataset_spec_ = copy.copy(dataset_spec)\n",
    "\n",
    "computed_speed_ = compute_speed_during_photo_capture(camera_, dataset_spec_)\n",
    "print(f\"Max speed: {computed_speed_:.2f}\")\n",
    "print('------------------------------')\n",
    "\n",
    "\n",
    "# Height\n",
    "camera_ = copy.copy(camera_x10)\n",
    "dataset_spec_ = copy.copy(dataset_spec)\n",
    "dataset_spec_.height *= 2\n",
    "computed_speed_ = compute_speed_during_photo_capture(camera_, dataset_spec_)\n",
    "print('Double the height')\n",
    "print(f\"Max speed: {computed_speed_:.2f}\")\n",
    "\"\"\"\n",
    "A higher altitude results in a larger ground sampling distance (GSD), meaning each pixel represents a larger ground area. \n",
    "As a result, the drone can move faster while still keeping within the 1-pixel motion blur threshold\n",
    "\"\"\"\n",
    "print('------------------------------')\n",
    "\n",
    "\n",
    "# Exposure Time\n",
    "camera_ = copy.copy(camera_x10)\n",
    "dataset_spec_ = copy.copy(dataset_spec)\n",
    "dataset_spec_.exposure_time_ms *= 2\n",
    "computed_speed_ = compute_speed_during_photo_capture(camera_, dataset_spec_)\n",
    "print('Longer Exposure Time')\n",
    "print(f\"Max speed: {computed_speed_:.2f}\")\n",
    "\"\"\"\n",
    "A longer exposure time means the camera sensor is active for a longer period, increasing the risk of motion blur. \n",
    "To prevent exceeding the 1-pixel movement limit, the drone must move slower\n",
    "\"\"\"\n",
    "print('------------------------------')\n",
    "\n",
    "\n",
    "# Focal Length\n",
    "camera_ = copy.copy(camera_x10)\n",
    "dataset_spec_ = copy.copy(dataset_spec)\n",
    "camera_.fx *= 2\n",
    "computed_speed_ = compute_speed_during_photo_capture(camera_, dataset_spec_)\n",
    "print('Longer Focal Length')\n",
    "print(f\"Max speed: {computed_speed_:.2f}\")\n",
    "\"\"\"\n",
    "#A longer exposure time means the camera sensor is active for a longer period, increasing the risk of motion blur. \n",
    "#To prevent exceeding the 1-pixel movement limit, the drone must move slower\n",
    "\"\"\"\n",
    "print('------------------------------')"
   ]
  },
  {
   "cell_type": "markdown",
   "id": "26d7075d-f520-43bd-8b8b-b36e9c6a6bc2",
   "metadata": {},
   "source": [
    "# Week 6: Generate Full Flight Plans  \n",
    "\n",
    "We now have all the tools to generate the full flight plan.\n",
    "\n",
    "Steps for this week:\n",
    "1. Define the `Waypoint` data model. What attributes should the data model have?\n",
    "   1. For Nadir scans, just the position of the camera is enough as we will always look drown to the ground.\n",
    "   2. For general case (bonus), we also need to define where the drone will look at@\n",
    "3. Implement the function `generate_photo_plan_on_grid` to generate the full plan.\n",
    "   1. Compute the maximum distance between two images, horizontally and vertically.\n",
    "   2. Layer the images such that we cover the whole scan area. Note that you need to take care when the scan dimension is not a multiple of distance between images. Example: to cover 45m length with 10m between images, we would need 4.5 images. Not possible. 4 images would not satisfy the overlap, so we should go with 5. How should we arrange 5 images in the given 45m.\n",
    "   3. Assign the speed to each waypoint.\n",
    "\n",
    "$\\color{red}{\\text{TODO: }}$ Implement:\n",
    "- `Waypoint` in `src/data_model.py`\n",
    "- `generate_photo_plan_on_grid` in `src/plan_computation.py`."
   ]
  },
  {
   "cell_type": "code",
   "execution_count": 6,
   "id": "7f1e5c3e-9974-4f50-9413-1b9c5b523051",
   "metadata": {},
   "outputs": [
    {
     "name": "stdout",
     "output_type": "stream",
     "text": [
      "Computed plan with 140 waypoints\n"
     ]
    }
   ],
   "source": [
    "computed_plan = generate_photo_plan_on_grid(camera_x10, dataset_spec) \n",
    "\n",
    "print(f\"Computed plan with {len(computed_plan)} waypoints\")"
   ]
  },
  {
   "cell_type": "code",
   "execution_count": 7,
   "id": "71f3bf15-c584-44da-a789-c821acb3f9a6",
   "metadata": {},
   "outputs": [
    {
     "name": "stdout",
     "output_type": "stream",
     "text": [
      "Idx 0: Waypoint(X=np.float32(0.0), Y=np.float32(0.0), Z=30.48, speed=np.float32(3.0859199), angle=0.0)\n",
      "Idx 1: Waypoint(X=np.float32(15.167914), Y=np.float32(0.0), Z=30.48, speed=np.float32(3.0859199), angle=0.0)\n",
      "Idx 2: Waypoint(X=np.float32(30.335829), Y=np.float32(0.0), Z=30.48, speed=np.float32(3.0859199), angle=0.0)\n",
      "Idx 3: Waypoint(X=np.float32(45.503742), Y=np.float32(0.0), Z=30.48, speed=np.float32(3.0859199), angle=0.0)\n",
      "Idx 4: Waypoint(X=np.float32(60.671658), Y=np.float32(0.0), Z=30.48, speed=np.float32(3.0859199), angle=0.0)\n",
      "Idx 5: Waypoint(X=np.float32(75.83957), Y=np.float32(0.0), Z=30.48, speed=np.float32(3.0859199), angle=0.0)\n",
      "Idx 6: Waypoint(X=np.float32(91.007484), Y=np.float32(0.0), Z=30.48, speed=np.float32(3.0859199), angle=0.0)\n",
      "Idx 7: Waypoint(X=np.float32(106.1754), Y=np.float32(0.0), Z=30.48, speed=np.float32(3.0859199), angle=0.0)\n",
      "Idx 8: Waypoint(X=np.float32(121.343315), Y=np.float32(0.0), Z=30.48, speed=np.float32(3.0859199), angle=0.0)\n",
      "Idx 9: Waypoint(X=np.float32(136.51123), Y=np.float32(0.0), Z=30.48, speed=np.float32(3.0859199), angle=0.0)\n",
      "Idx 10: Waypoint(X=np.float32(0.0), Y=np.float32(11.380706), Z=30.48, speed=np.float32(3.0859199), angle=0.0)\n",
      "Idx 11: Waypoint(X=np.float32(15.167914), Y=np.float32(11.380706), Z=30.48, speed=np.float32(3.0859199), angle=0.0)\n",
      "Idx 12: Waypoint(X=np.float32(30.335829), Y=np.float32(11.380706), Z=30.48, speed=np.float32(3.0859199), angle=0.0)\n",
      "Idx 13: Waypoint(X=np.float32(45.503742), Y=np.float32(11.380706), Z=30.48, speed=np.float32(3.0859199), angle=0.0)\n",
      "Idx 14: Waypoint(X=np.float32(60.671658), Y=np.float32(11.380706), Z=30.48, speed=np.float32(3.0859199), angle=0.0)\n",
      "Idx 15: Waypoint(X=np.float32(75.83957), Y=np.float32(11.380706), Z=30.48, speed=np.float32(3.0859199), angle=0.0)\n",
      "Idx 16: Waypoint(X=np.float32(91.007484), Y=np.float32(11.380706), Z=30.48, speed=np.float32(3.0859199), angle=0.0)\n",
      "Idx 17: Waypoint(X=np.float32(106.1754), Y=np.float32(11.380706), Z=30.48, speed=np.float32(3.0859199), angle=0.0)\n",
      "Idx 18: Waypoint(X=np.float32(121.343315), Y=np.float32(11.380706), Z=30.48, speed=np.float32(3.0859199), angle=0.0)\n",
      "Idx 19: Waypoint(X=np.float32(136.51123), Y=np.float32(11.380706), Z=30.48, speed=np.float32(3.0859199), angle=0.0)\n",
      "...\n"
     ]
    }
   ],
   "source": [
    "MAX_NUM_WAYPOINTS_TO_PRINT = 20\n",
    "\n",
    "for idx, waypoint in enumerate(computed_plan[:20]):\n",
    "    print(f\"Idx {idx}: {waypoint}\")\n",
    "if len(computed_plan) >= MAX_NUM_WAYPOINTS_TO_PRINT:\n",
    "    print(\"...\")"
   ]
  },
  {
   "cell_type": "markdown",
   "id": "5544587f-fff7-406a-be65-ad99c7217e51",
   "metadata": {},
   "source": [
    "## Bonus: Time computation \n",
    "\n",
    "if you have some time, you can implement a time computation function. We can make the drone fly as fast as possible between photos, but make sure it can decelerate back to the required speed at the photos. Please use the following data: \n",
    "- Max drone speed: 16m/s.\n",
    "- Max acceleration: 3.5 m/s^2.\n",
    "\n",
    "Hint: you might need to use a trapezoidal speed profile"
   ]
  },
  {
   "cell_type": "code",
   "execution_count": 37,
   "id": "f5201a63",
   "metadata": {},
   "outputs": [
    {
     "name": "stdout",
     "output_type": "stream",
     "text": [
      "This plan will take 140 photos and finish in 383 seconds\n",
      "This plan will take 140 photos and finish in 383 seconds\n",
      "This plan will take 420 photos and finish in 511 seconds\n"
     ]
    }
   ],
   "source": [
    "from src.plan_computation import approximate_time\n",
    "\n",
    "max_speed = 16\n",
    "a_max = 3.5\n",
    "time = approximate_time(camera_x10, dataset_spec, computed_plan, max_speed, a_max)\n",
    "print(f'This plan will take {len(computed_plan)} photos and finish in {int(time)} seconds')\n",
    "\n",
    "\n",
    "max_speed = 32\n",
    "a_max = 3.5\n",
    "time = approximate_time(camera_x10, dataset_spec, computed_plan, max_speed, a_max)\n",
    "print(f'This plan will take {len(computed_plan)} photos and finish in {int(time)} seconds')\n",
    "\n",
    "# For above 2 test cases, even if double the max speed for the drone,\n",
    "# it will take the same amount of time to complete the plan.\n",
    "# So, I may have assume that the distance between 2 photos is not enough for the drone to fly with a higher speed\n",
    "\n",
    "\n",
    "\n",
    "# trying with different overlaps\n",
    "max_speed = 16\n",
    "a_max = 3.5\n",
    "dataset_copy = copy.copy(dataset_spec)\n",
    "dataset_copy.overlap = 0.9\n",
    "new_plan = generate_photo_plan_on_grid(camera_x10, dataset_copy)\n",
    "time = approximate_time(camera_x10, dataset_copy, new_plan, max_speed, a_max)\n",
    "print(f'This plan will take {len(new_plan)} photos and finish in {int(time)} seconds')\n",
    "\n",
    "\n"
   ]
  },
  {
   "cell_type": "markdown",
   "id": "1a326c0e-86ff-443d-98ee-7a4fae0bfe81",
   "metadata": {},
   "source": [
    "# Week 7: Visualize Flight Plans\n",
    "\n",
    "This week, we will use a third party plotting framework called [Plotly](https://plotly.com/python/) to visualize our plans. Please follow this [tutorial](https://www.kaggle.com/code/kanncaa1/plotly-tutorial-for-beginners) to gain some basic experience with Plotly, and then come up with your own visualization function. You are free to choose to come up with your own visualization, and use something other than Plotly.\n",
    "\n",
    "$\\color{red}{\\text{TODO: }}$ Implement `plot_photo_plan` in `src/visualization.py`"
   ]
  },
  {
   "cell_type": "code",
   "execution_count": null,
   "id": "3996504a-28fc-48f1-8094-94d9a6bd58f9",
   "metadata": {},
   "outputs": [],
   "source": [
    "fig = plot_photo_plan(computed_plan)\n",
    "fig.show()"
   ]
  },
  {
   "cell_type": "markdown",
   "id": "74ff5833-f107-4332-974c-b9294e02a1da",
   "metadata": {},
   "source": [
    "$\\color{red}{\\text{TODO: }}$ Compute the following ablations (and any other you can think of)\n",
    "\n",
    "1. Change overlap and confirm it affects the consecutive images\n",
    "2. Change sidelap and confirm it does not affect the consecutive images\n",
    "3. Change the height of the scan and document the affect on scan plans\n",
    "4. Change exposure time"
   ]
  },
  {
   "cell_type": "code",
   "execution_count": null,
   "id": "7dbe090a-b696-4800-8373-6f4b3be02a87",
   "metadata": {},
   "outputs": [],
   "source": [
    "camera_ = copy.deepcopy(camera_x10)\n",
    "dataset_spec_ = copy.deepcopy(dataset_spec)\n",
    "\n",
    "dataset_spec_.exposure_time_ms = 1000\n",
    "\n",
    "print(camera_, dataset_spec_)\n",
    "\n",
    "fig = plot_photo_plan(generate_photo_plan_on_grid(camera_, dataset_spec_))\n",
    "fig.show()"
   ]
  }
 ],
 "metadata": {
  "kernelspec": {
   "display_name": "Python 3",
   "language": "python",
   "name": "python3"
  },
  "language_info": {
   "codemirror_mode": {
    "name": "ipython",
    "version": 3
   },
   "file_extension": ".py",
   "mimetype": "text/x-python",
   "name": "python",
   "nbconvert_exporter": "python",
   "pygments_lexer": "ipython3",
   "version": "3.13.0"
  }
 },
 "nbformat": 4,
 "nbformat_minor": 5
}
